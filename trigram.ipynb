{
 "cells": [
  {
   "cell_type": "code",
   "execution_count": 3,
   "metadata": {},
   "outputs": [],
   "source": [
    "import re\n",
    "from collections import defaultdict"
   ]
  },
  {
   "cell_type": "markdown",
   "metadata": {},
   "source": [
    "The function cleanup_text() uses re lib to clean a string by:\n",
    "- removing non letter characters except full stops and spaces\n",
    "- converting all text to uppercase \n",
    "- and replacing multispaces with a single space\n",
    "- cleaned_txt = re.sub(r'[^A-Za-z. ]', '', text).upper() removes non character letters\n",
    "-  cleaned_txt = re.sub(r'\\s+', ' ', cleaned_txt) removes multiple spaces and converts into one"
   ]
  },
  {
   "cell_type": "code",
   "execution_count": 4,
   "metadata": {},
   "outputs": [],
   "source": [
    "def cleanup_text(text):\n",
    "    # Remove all non-letter characters except periods and spaces and convert to uppercase\n",
    "    cleaned_txt = re.sub(r'[^A-Za-z. ]', '', text).upper()\n",
    "    # Replace multiple spaces with a single space\n",
    "    cleaned_txt = re.sub(r'\\s+', ' ', cleaned_txt)\n",
    "    return cleaned_txt"
   ]
  },
  {
   "cell_type": "markdown",
   "metadata": {},
   "source": [
    "This function processes a string of text to generate a trigram model, which counts every three-character sequence that reoccurs within the text.\n",
    "HOW it works: \n",
    "- The cleaned text is passed to the function, the clean text should only contain uppercase letters, spaces and periods, all other characters are removed from the previous function.\n",
    "- The function scans the text and slices it into trigrams by taking every sequence of the consecutive characters.\n",
    "- the defaultdict() is used to store the trigrams and their counts, each trigram is automatically incremeneted by 1\n",
    "- defaultdict simplifies the counting process by eliminating the need for checking if the trigram already exists in the stored dictionary.\n",
    "- After scanning the text, the function returns the dictionary of 2 things:\n",
    "- Keys: are the trigrams (outputs each trigram)\n",
    "- Value: is the amount of time that trigram appears"
   ]
  },
  {
   "cell_type": "code",
   "execution_count": 5,
   "metadata": {},
   "outputs": [
    {
     "name": "stdout",
     "output_type": "stream",
     "text": [
      "{'HER': 2, 'ERE': 3, 'RE ': 3, 'E H': 1, ' HE': 1, 'E E': 2, ' ER': 2, 'ERA': 1, 'RA ': 1, 'A W': 1, ' WE': 2, 'WE ': 1, 'E D': 1, ' DO': 1, 'DO ': 1, 'O W': 1, ' WH': 1, 'WHA': 1, 'HAT': 1, 'AT ': 1, 'T W': 1, 'WE.': 1}\n"
     ]
    }
   ],
   "source": [
    "def create_trigram(text):\n",
    "    trigrams = defaultdict(int)  # Use defaultdict to avoid key errors\n",
    "    # Iterate through the text to create trigrams\n",
    "    for i in range(len(text) - 2):\n",
    "        trigram = text[i:i+3]  # Slice string to get the trigram\n",
    "        trigrams[trigram] += 1  # Increment count for the trigram\n",
    "    return dict(trigrams)  # Return after all trigrams have been processed\n",
    "\n",
    "# Test 2\n",
    "text1 = \"here here, ere era we do what we.\"\n",
    "cleaned_text = cleanup_text(text1)  # Clean the text\n",
    "trigram_model = create_trigram(cleaned_text)  # Generate trigrams\n",
    "\n",
    "print(trigram_model)  # Output the trigram model"
   ]
  },
  {
   "cell_type": "code",
   "execution_count": 6,
   "metadata": {},
   "outputs": [],
   "source": [
    "def read_files(file_path):\n",
    "    try:\n",
    "        with open(file_path, 'r', encoding=\"utf-8\") as file:\n",
    "            text = file.read() # read the content of the file\n",
    "        return text\n",
    "    except FileNotFoundError:\n",
    "        print(f\"Error: File {file_path} not found.\")\n",
    "        return None\n"
   ]
  }
 ],
 "metadata": {
  "kernelspec": {
   "display_name": "Python 3",
   "language": "python",
   "name": "python3"
  },
  "language_info": {
   "name": "python",
   "version": "3.12.1"
  }
 },
 "nbformat": 4,
 "nbformat_minor": 2
}
